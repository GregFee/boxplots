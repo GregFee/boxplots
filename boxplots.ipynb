{
 "cells": [
  {
   "cell_type": "markdown",
   "metadata": {},
   "source": [
    "# Investigation of Boxplots in Python"
   ]
  },
  {
   "cell_type": "markdown",
   "metadata": {},
   "source": [
    "#### What are boxplots:"
   ]
  },
  {
   "cell_type": "code",
   "execution_count": 7,
   "metadata": {
    "collapsed": true
   },
   "outputs": [],
   "source": [
    "#import libraries\n",
    "import matplotlib.pyplot as plt\n",
    "import numpy as np\n",
    "import seaborn as sns"
   ]
  },
  {
   "cell_type": "code",
   "execution_count": 14,
   "metadata": {},
   "outputs": [
    {
     "name": "stdout",
     "output_type": "stream",
     "text": [
      "[[744 747 738]\n",
      " [723 746 754]\n",
      " [753 744 741]\n",
      " [744 744 753]\n",
      " [759 741 735]\n",
      " [735 735 749]\n",
      " [758 746 756]\n",
      " [738 736 736]\n",
      " [753 745 726]\n",
      " [723 759 735]]\n",
      "[[715 685 691]\n",
      " [711 680 715]\n",
      " [691 694 704]\n",
      " [696 680 709]\n",
      " [683 700 696]\n",
      " [681 682 697]\n",
      " [707 699 683]\n",
      " [716 707 701]\n",
      " [681 713 711]\n",
      " [695 690 708]]\n",
      "[[544 542 566]\n",
      " [571 540 551]\n",
      " [555 552 543]\n",
      " [543 552 549]\n",
      " [543 565 559]\n",
      " [551 571 553]\n",
      " [561 570 569]\n",
      " [549 562 542]\n",
      " [541 552 543]\n",
      " [541 570 551]]\n",
      "[[571 570 541]\n",
      " [555 552 552]\n",
      " [547 555 566]\n",
      " [565 571 554]\n",
      " [566 551 552]\n",
      " [552 555 544]\n",
      " [543 551 548]\n",
      " [551 566 550]\n",
      " [571 541 549]\n",
      " [567 541 566]]\n",
      "[[556 552 535]\n",
      " [554 535 523]\n",
      " [526 537 551]\n",
      " [521 527 522]\n",
      " [544 531 537]\n",
      " [555 541 549]\n",
      " [522 550 541]\n",
      " [539 530 554]\n",
      " [539 549 529]\n",
      " [547 544 555]]\n"
     ]
    }
   ],
   "source": [
    "#Generate data for boxplots. Here we are generating data of PSI of dog breed bite\n",
    "#Bite levels based on measurements on popular dog websites\n",
    "kangal = np.random.randint(720,760,(10,3))\n",
    "print(kangal)\n",
    "canecorso = np.random.randint(680,720,(10,3))\n",
    "print(canecorso)\n",
    "tosainu = np.random.randint(540,572,(10,3))\n",
    "print(tosainu)\n",
    "doguedebordeaux = np.random.randint(540,572,(10,3))\n",
    "print(doguedebordeaux)\n",
    "englishmastiff = np.random.randint(520,560,(10,3))\n",
    "print(englishmastiff)"
   ]
  },
  {
   "cell_type": "code",
   "execution_count": 13,
   "metadata": {},
   "outputs": [
    {
     "data": {
      "image/png": "[encoded data removed]",
      "text/plain": [
       "<matplotlib.figure.Figure at 0x20a3ad82748>"
      ]
     },
     "metadata": {},
     "output_type": "display_data"
    }
   ],
   "source": [
    "plt.boxplot(kangal)\n",
    "plt.title(\"Kangal\")\n",
    "plt.ylabel(\"PSI Level\")\n",
    "plt.show()"
   ]
  },
  {
   "cell_type": "code",
   "execution_count": null,
   "metadata": {
    "collapsed": true
   },
   "outputs": [],
   "source": []
  }
 ],
 "metadata": {
  "kernelspec": {
   "display_name": "Python 3",
   "language": "python",
   "name": "python3"
  },
  "language_info": {
   "codemirror_mode": {
    "name": "ipython",
    "version": 3
   },
   "file_extension": ".py",
   "mimetype": "text/x-python",
   "name": "python",
   "nbconvert_exporter": "python",
   "pygments_lexer": "ipython3",
   "version": "3.6.3"
  }
 },
 "nbformat": 4,
 "nbformat_minor": 2
}
